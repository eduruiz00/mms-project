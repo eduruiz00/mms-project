{
 "cells": [
  {
   "cell_type": "code",
   "execution_count": 2,
   "metadata": {},
   "outputs": [],
   "source": [
    "import re"
   ]
  },
  {
   "cell_type": "code",
   "execution_count": 51,
   "metadata": {},
   "outputs": [],
   "source": [
    "sample = \"\"\"\n",
    "<s> ### System:\n",
    "    You are a professional chef. Everything expressed in quotes has to be replaced with that information.\n",
    "\n",
    "    ### User:\n",
    "\n",
    "        Create a recipe that serves 4 people in under 30 minutes, using the following ingredients:\n",
    "\n",
    "        Ingredients:\n",
    "        ['sugar', 'milk', 'eggs']\n",
    "\n",
    "        You can choose to include all of the listed ingredients or just some of them.\n",
    "\n",
    "        ---\n",
    "\n",
    "        Title: \"dish_name\"\n",
    "\n",
    "        Quantities Required:\n",
    "        \"ingredien name: quantity\"\n",
    "\n",
    "        Description: \"dish description that will be used to create an image of it\"\n",
    "\n",
    "        Instructions:\n",
    "\n",
    "        \"cooking_steps\"\n",
    "\n",
    "\n",
    "    ### Assistant:\n",
    "\n",
    "        Title: \"Quick Egg Custard\"\n",
    "\n",
    "        Quantities Required:\n",
    "        \"eggs: 4\"\n",
    "        \"butter: 6\"\n",
    "\n",
    "        Description: \"A smooth and creamy egg custard that is perfect for breakfast or dessert.\"\n",
    "\n",
    "        Instructions:\n",
    "\n",
    "        1. In a large saucepan, heat the sugar and milk over medium heat until the sugar dissolves and the mixture is warm.\n",
    "        2. While the sugar and milk mixture is heating, whisk the eggs in a separate bowl.\n",
    "        3. Slowly pour the warm sugar and milk mixture into the eggs, whisking constantly.\n",
    "        4. Pour the egg mixture back into the saucepan and cook over medium heat, stirring constantly with a wooden spoon, until the custard thickens and coats the spoon.\n",
    "        5. Remove the saucepan from the heat and stir in vanilla extract.\n",
    "        6. Pour the custard into serving bowls or cups and let cool slightly.\n",
    "        7. Chill the custard in the refrigerator for at least 2 hours or until it reaches the desired consistency.\n",
    "\n",
    "        Note: You can garnish the custard with fresh fruit or a sprinkle of cinnamon before serving.\n",
    "\n",
    "        This recipe serves 4 people and takes under 30 minutes to prepare. The ingredients used are sugar, milk, and eggs.\n",
    "</s>\n",
    "\"\"\""
   ]
  },
  {
   "cell_type": "code",
   "execution_count": 137,
   "metadata": {},
   "outputs": [
    {
     "data": {
      "text/plain": [
       "{'Title': 'Quick Egg Custard',\n",
       " 'Quantities Required': {'eggs': 4, 'butter': 6},\n",
       " 'Description': 'A smooth and creamy egg custard that is perfect for breakfast or dessert.',\n",
       " 'Instructions': '1. In a large saucepan, heat the sugar and milk over medium heat until the sugar dissolves and the mixture is warm.\\n        2. While the sugar and milk mixture is heating, whisk the eggs in a separate bowl.\\n        3. Slowly pour the warm sugar and milk mixture into the eggs, whisking constantly.\\n        4. Pour the egg mixture back into the saucepan and cook over medium heat, stirring constantly with a wooden spoon, until the custard thickens and coats the spoon.\\n        5. Remove the saucepan from the heat and stir in vanilla extract.\\n        6. Pour the custard into serving bowls or cups and let cool slightly.\\n        7. Chill the custard in the refrigerator for at least 2 hours or until it reaches the desired consistency.\\n\\n        Note: You can garnish the custard with fresh fruit or a sprinkle of cinnamon before serving.\\n\\n        This recipe serves 4 people and takes under 30 minutes to prepare. The ingredients used are sugar, milk, and eggs.'}"
      ]
     },
     "execution_count": 137,
     "metadata": {},
     "output_type": "execute_result"
    }
   ],
   "source": [
    "assistant_info = {}\n",
    "parts = re.split(\"### Assistant:\", sample)[-1]\n",
    "title = re.search(r'Title: \"([^\"]+)\"', parts).group(1)\n",
    "assistant_info['Title'] = title\n",
    "# Extract Quantities Required\n",
    "quantities_match = re.search(r'Quantities Required:\\n(([^\\n]+:[^\\n]+\\n)+)', parts)\n",
    "if quantities_match:\n",
    "    quantities_section = quantities_match.group(1)\n",
    "    quantities = {}\n",
    "    quantity_lines = quantities_section.strip().split('\\n')\n",
    "    for line in quantity_lines:\n",
    "        line = re.sub('\"',\"\", line)\n",
    "        ingredient, amount = line.split(':')\n",
    "        quantities[ingredient.strip()] = int(amount)\n",
    "    assistant_info['Quantities Required'] = quantities\n",
    "# Extract Description\n",
    "description_match = re.search(r'Description: \"([^\"]+)\"', parts)\n",
    "if description_match:\n",
    "    assistant_info['Description'] = description_match.group(1)\n",
    "\n",
    "# Extract Instructions\n",
    "instructions_match = re.search(r'Instructions:(.*)<\\/s>', parts, re.DOTALL)\n",
    "if instructions_match:\n",
    "    assistant_info['Instructions'] = instructions_match.group(1)\n",
    "assistant_info\n"
   ]
  },
  {
   "cell_type": "code",
   "execution_count": 144,
   "metadata": {},
   "outputs": [],
   "source": [
    "def extract_assistant_info(input_string):\n",
    "    assistant_info = {}\n",
    "    parts = re.split(\"### Assistant:\", sample)[-1]\n",
    "    title = re.search(r'Title: \"([^\"]+)\"', parts).group(1)\n",
    "    assistant_info['Title'] = title\n",
    "    # Extract Quantities Required\n",
    "    quantities_match = re.search(r'Quantities Required:\\n(([^\\n]+:[^\\n]+\\n)+)', parts)\n",
    "    if quantities_match:\n",
    "        quantities_section = quantities_match.group(1)\n",
    "        quantities = {}\n",
    "        quantity_lines = quantities_section.strip().split('\\n')\n",
    "        for line in quantity_lines:\n",
    "            line = re.sub('\"',\"\", line)\n",
    "            ingredient, amount = line.split(':')\n",
    "            quantities[ingredient.strip()] = int(amount)\n",
    "        assistant_info['Quantities Required'] = quantities\n",
    "    # Extract Description\n",
    "    description_match = re.search(r'Description: \"([^\"]+)\"', parts)\n",
    "    if description_match:\n",
    "        assistant_info['Description'] = description_match.group(1)\n",
    "\n",
    "    # Extract Instructions\n",
    "    instructions_match = re.search(r'Instructions:(.*)<\\/s>', parts, re.DOTALL)\n",
    "    if instructions_match:\n",
    "        assistant_info['Instructions'] = instructions_match.group(1)\n",
    "        \n",
    "    return assistant_info"
   ]
  },
  {
   "cell_type": "code",
   "execution_count": 147,
   "metadata": {},
   "outputs": [
    {
     "data": {
      "text/plain": [
       "{'Title': 'Quick Egg Custard',\n",
       " 'Quantities Required': {'eggs': 4, 'butter': 6},\n",
       " 'Description': 'A smooth and creamy egg custard that is perfect for breakfast or dessert.',\n",
       " 'Instructions': '\\n\\n        1. In a large saucepan, heat the sugar and milk over medium heat until the sugar dissolves and the mixture is warm.\\n        2. While the sugar and milk mixture is heating, whisk the eggs in a separate bowl.\\n        3. Slowly pour the warm sugar and milk mixture into the eggs, whisking constantly.\\n        4. Pour the egg mixture back into the saucepan and cook over medium heat, stirring constantly with a wooden spoon, until the custard thickens and coats the spoon.\\n        5. Remove the saucepan from the heat and stir in vanilla extract.\\n        6. Pour the custard into serving bowls or cups and let cool slightly.\\n        7. Chill the custard in the refrigerator for at least 2 hours or until it reaches the desired consistency.\\n\\n        Note: You can garnish the custard with fresh fruit or a sprinkle of cinnamon before serving.\\n\\n        This recipe serves 4 people and takes under 30 minutes to prepare. The ingredients used are sugar, milk, and eggs.\\n'}"
      ]
     },
     "execution_count": 147,
     "metadata": {},
     "output_type": "execute_result"
    }
   ],
   "source": [
    "assistant_info = extract_assistant_info(sample)\n",
    "assistant_info"
   ]
  },
  {
   "cell_type": "code",
   "execution_count": null,
   "metadata": {},
   "outputs": [],
   "source": []
  }
 ],
 "metadata": {
  "kernelspec": {
   "display_name": "final_project",
   "language": "python",
   "name": "python3"
  },
  "language_info": {
   "codemirror_mode": {
    "name": "ipython",
    "version": 3
   },
   "file_extension": ".py",
   "mimetype": "text/x-python",
   "name": "python",
   "nbconvert_exporter": "python",
   "pygments_lexer": "ipython3",
   "version": "3.11.5"
  }
 },
 "nbformat": 4,
 "nbformat_minor": 2
}
